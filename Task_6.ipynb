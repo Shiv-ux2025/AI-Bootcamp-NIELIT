{
  "nbformat": 4,
  "nbformat_minor": 0,
  "metadata": {
    "colab": {
      "provenance": [],
      "authorship_tag": "ABX9TyMZxBeTxiGnyI/yh3mmbrTM",
      "include_colab_link": true
    },
    "kernelspec": {
      "name": "python3",
      "display_name": "Python 3"
    },
    "language_info": {
      "name": "python"
    }
  },
  "cells": [
    {
      "cell_type": "markdown",
      "metadata": {
        "id": "view-in-github",
        "colab_type": "text"
      },
      "source": [
        "<a href=\"https://colab.research.google.com/github/Shiv-ux2025/AI-Bootcamp-NIELIT/blob/main/Task_6.ipynb\" target=\"_parent\"><img src=\"https://colab.research.google.com/assets/colab-badge.svg\" alt=\"Open In Colab\"/></a>"
      ]
    },
    {
      "cell_type": "code",
      "source": [
        "a=1\n",
        "while(a<=10):\n",
        "  print (a,\"You are in loop.\")\n",
        "  a=a+1\n"
      ],
      "metadata": {
        "colab": {
          "base_uri": "https://localhost:8080/"
        },
        "id": "DO7LpezWXpAA",
        "outputId": "6a6e8e82-bc49-4078-9776-5f44ed0b009a"
      },
      "execution_count": 2,
      "outputs": [
        {
          "output_type": "stream",
          "name": "stdout",
          "text": [
            "1 You are in loop.\n",
            "2 You are in loop.\n",
            "3 You are in loop.\n",
            "4 You are in loop.\n",
            "5 You are in loop.\n",
            "6 You are in loop.\n",
            "7 You are in loop.\n",
            "8 You are in loop.\n",
            "9 You are in loop.\n",
            "10 You are in loop.\n"
          ]
        }
      ]
    },
    {
      "cell_type": "code",
      "execution_count": null,
      "metadata": {
        "id": "xep14LeKXCF4"
      },
      "outputs": [],
      "source": []
    }
  ]
}